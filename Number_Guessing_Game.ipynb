{
  "nbformat": 4,
  "nbformat_minor": 0,
  "metadata": {
    "colab": {
      "provenance": []
    },
    "kernelspec": {
      "name": "python3",
      "display_name": "Python 3"
    },
    "language_info": {
      "name": "python"
    }
  },
  "cells": [
    {
      "cell_type": "markdown",
      "source": [
        "# **Number Guessing Game**"
      ],
      "metadata": {
        "id": "eODNYv7cpfrm"
      }
    },
    {
      "cell_type": "code",
      "execution_count": 1,
      "metadata": {
        "colab": {
          "base_uri": "https://localhost:8080/"
        },
        "id": "V3RxTsa7paa6",
        "outputId": "f23baac1-3932-43f3-8166-0084b026450c"
      },
      "outputs": [
        {
          "output_type": "stream",
          "name": "stdout",
          "text": [
            "Enter a guess: 50\n",
            "Your guess was too high. Try again.\n",
            "Enter a guess: 25\n",
            "Your guess was too low. Try again.\n",
            "Enter a guess: 35\n",
            "Your guess was too low. Try again.\n",
            "Enter a guess: 45\n",
            "Your guess was too high. Try again.\n",
            "Enter a guess: 40\n",
            "Your guess was too high. Try again.\n",
            "Enter a guess: 37\n",
            "You guessed it! The number was 37\n"
          ]
        }
      ],
      "source": [
        "import random\n",
        "\n",
        "# Generate a random number between 1 and 100\n",
        "secret_num = random.randint(1, 100)\n",
        "\n",
        "while True:\n",
        "    # Get a guess from the player\n",
        "    guess = int(input(\"Enter a guess: \"))\n",
        "\n",
        "    # Check if the guess is correct\n",
        "    if guess == secret_num:\n",
        "        print(\"You guessed it! The number was {}\".format(secret_num))\n",
        "        break\n",
        "    # Check if the guess is too high\n",
        "    elif guess > secret_num:\n",
        "        print(\"Your guess was too high. Try again.\")\n",
        "    # The guess must be too low\n",
        "    else:\n",
        "        print(\"Your guess was too low. Try again.\")\n",
        "\n"
      ]
    }
  ]
}